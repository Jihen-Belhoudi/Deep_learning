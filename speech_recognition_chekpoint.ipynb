{
  "nbformat": 4,
  "nbformat_minor": 0,
  "metadata": {
    "colab": {
      "provenance": []
    },
    "kernelspec": {
      "name": "python3",
      "display_name": "Python 3"
    },
    "language_info": {
      "name": "python"
    }
  },
  "cells": [
    {
      "cell_type": "code",
      "execution_count": null,
      "metadata": {
        "id": "TWOOWg6dxi9X"
      },
      "outputs": [],
      "source": [
        "import streamlit as st\n",
        "import speech_recognition as sr\n",
        "from wit import Wit\n",
        "import io\n",
        "\n",
        "st.title('Real-time Speech-to-Text Transcription App')\n",
        "\n",
        "# Choose the API for speech recognition\n",
        "api_selection = st.radio(\"Choose the Speech Recognition API\", ('Google Speech Recognition', 'Wit.ai'))\n",
        "\n",
        "# Choose the language\n",
        "language_option = st.radio(\"Choose the Language\", ('English', 'French', 'Spanish', 'German', 'Chinese'))\n",
        "\n",
        "language_codes = {'English': 'en-US', 'Spanish': 'es-ES', 'French': 'fr-FR', 'German': 'de-DE', 'Chinese': 'zh-CN'}\n",
        "\n",
        "def recognize_speech_from_mic(recognizer, microphone, selected_api, language):\n",
        "    st.write(\"Please speak into the microphone\")\n",
        "    with microphone as source:\n",
        "        audio = recognizer.listen(source)\n",
        "    st.write(\"Got it! Now to recognize it...\")\n",
        "\n",
        "    # Recognize the speech using the chosen API\n",
        "    if selected_api == 'Google Speech Recognition':\n",
        "        try:\n",
        "            transcription = recognizer.recognize_google(audio)\n",
        "        except sr.RequestError:\n",
        "            # API was unreachable or unresponsive\n",
        "            transcription = \"API unavailable/unresponsive\"\n",
        "        except sr.UnknownValueError:\n",
        "            # speech was unintelligible\n",
        "            transcription = \"Unable to recognize speech\"\n",
        "\n",
        "    elif api_selection == 'Wit.ai':\n",
        "        audio_bytes = io.BytesIO(audio.get_wav_data()).read()\n",
        "        client = Wit('QQKBFTRECWO23JNY32PRZOLI5THU7L6Z')\n",
        "        resp = client.speech(audio_bytes, {'Content-Type': 'audio/wav'})\n",
        "        if 'text' in resp:\n",
        "            transcription = resp['text']\n",
        "        else:\n",
        "            transcription = \"Could not extract text from the response.\"\n",
        "    return transcription\n",
        "\n",
        "\n",
        "\n",
        "# Click the button to start recording and recognition\n",
        "if st.button('Start Recording'):\n",
        "    recognizer = sr.Recognizer()\n",
        "    microphone = sr.Microphone()\n",
        "\n",
        "    transcription = recognize_speech_from_mic(recognizer, microphone, api_selection, language_codes[language_option])\n",
        "    st.write('Transcription:')\n",
        "    st.write(transcription)\n"
      ]
    }
  ]
}