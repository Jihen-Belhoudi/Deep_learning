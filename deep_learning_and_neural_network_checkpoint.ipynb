{
  "nbformat": 4,
  "nbformat_minor": 0,
  "metadata": {
    "colab": {
      "provenance": []
    },
    "kernelspec": {
      "name": "python3",
      "display_name": "Python 3"
    },
    "language_info": {
      "name": "python"
    }
  },
  "cells": [
    {
      "cell_type": "code",
      "execution_count": null,
      "metadata": {
        "id": "L8uTkLxLxHIO"
      },
      "outputs": [],
      "source": [
        "import streamlit as st\n",
        "import speech_recognition as sr\n",
        "import nltk\n",
        "import random\n",
        "from nltk.tokenize import word_tokenize\n",
        "\n",
        "def speech_to_text():\n",
        "    recognizer = sr.Recognizer()\n",
        "    microphone = sr.Microphone()\n",
        "\n",
        "    with microphone as source:\n",
        "        st.write(\"Please speak now...\")\n",
        "        audio = recognizer.listen(source)\n",
        "\n",
        "    try:\n",
        "        text = recognizer.recognize_google(audio)\n",
        "        return text\n",
        "    except sr.UnknownValueError:\n",
        "        st.write(\"Google Speech Recognition could not understand the audio.\")\n",
        "    except sr.RequestError:\n",
        "        st.write(\"Could not request results from Google Speech Recognition service.\")\n",
        "\n",
        "\n",
        "\n",
        "\n",
        "PATTERNS = {\n",
        "    \"hello\": [\"Hello!\", \"Hi there!\", \"Hey! How can I help you?\"],\n",
        "    \"Hello\": [\"Hello!\", \"Hi there!\", \"Hey! How can I help you?\"],\n",
        "    \"good bye\": [\"Goodbye!\", \"See you later!\", \"Have a great day!\"],\n",
        "    \"how are you\": [\"I'm a computer program, so I don't have feelings, but thanks for asking!\", \"I'm doing well, how can I assist you today?\"],\n",
        "    # Add more patterns here...\n",
        "}\n",
        "\n",
        "# Tokenizing function\n",
        "def preprocess_text(text):\n",
        "    return word_tokenize(text.lower())\n",
        "\n",
        "\n",
        "def chatbot_function(user_input):\n",
        "    tokenized_input = preprocess_text(user_input)\n",
        "    for pattern, responses in PATTERNS.items():\n",
        "        tokenized_pattern = preprocess_text(pattern)\n",
        "        if any(word in tokenized_input for word in tokenized_pattern):\n",
        "            return random.choice(responses)\n",
        "    return \"I'm sorry, I didn't understand that. Could you rephrase, please?\"\n",
        "\n",
        "\n",
        "\n",
        "st.title('Speech-Enabled Chatbot')\n",
        "user_input = \"\"\n",
        "\n",
        "option = st.selectbox('Choose Input Method', ('Text', 'Speech'))\n",
        "if option == 'Text':\n",
        "    user_input = st.text_input(\"You: \")\n",
        "    if st.button('Send'):\n",
        "        response = chatbot_function(user_input)\n",
        "        st.write(f\"Bot: {response}\")\n",
        "elif option == 'Speech':\n",
        "    if st.button('Speak'):\n",
        "        user_input = speech_to_text()\n",
        "        st.write(f\"You said: {user_input}\")\n",
        "        response = chatbot_function(user_input)\n",
        "        st.write(f\"Bot: {response}\")\n"
      ]
    }
  ]
}