{
  "cells": [
    {
      "cell_type": "code",
      "execution_count": null,
      "id": "7494a52e",
      "metadata": {
        "id": "7494a52e",
        "outputId": "0f7fbe48-2000-4101-d0eb-d68c8370275e"
      },
      "outputs": [
        {
          "name": "stdout",
          "output_type": "stream",
          "text": [
            "Requirement already satisfied: opencv-python in c:\\users\\ski\\anaconda3\\lib\\site-packages (4.8.1.78)\n",
            "Requirement already satisfied: numpy>=1.21.2 in c:\\users\\ski\\anaconda3\\lib\\site-packages (from opencv-python) (1.24.3)\n"
          ]
        }
      ],
      "source": [
        "##!pip install opencv-python"
      ]
    },
    {
      "cell_type": "code",
      "execution_count": null,
      "id": "f29bde5a",
      "metadata": {
        "id": "f29bde5a"
      },
      "outputs": [],
      "source": [
        "import cv2\n",
        "import streamlit as st\n",
        "import numpy as np\n",
        "import tempfile\n",
        "\n",
        "# Load the face cascade classifier\n",
        "face_cascade = cv2.CascadeClassifier('haarcascade_frontalface_default.xml')\n",
        "\n",
        "# Create a function to detect faces in an uploaded image\n",
        "def detect_faces_in_image(uploaded_image, min_neighbors, scale_factor, rectangle_color):\n",
        "    # Convert the uploaded image to a NumPy array\n",
        "    image = np.array(uploaded_image)\n",
        "\n",
        "    # Create a temporary file to save the image\n",
        "    temp_file = tempfile.NamedTemporaryFile(delete=False)\n",
        "    temp_file.write(image)\n",
        "    temp_file.close()\n",
        "\n",
        "    # Read the image using OpenCV\n",
        "    image = cv2.imread(temp_file.name)\n",
        "\n",
        "    # Convert the image to grayscale\n",
        "    gray = cv2.cvtColor(image, cv2.COLOR_BGR2GRAY)\n",
        "\n",
        "    # Detect the faces using the face cascade classifier with adjustable parameters\n",
        "    faces = face_cascade.detectMultiScale(gray, scaleFactor=scale_factor, minNeighbors=min_neighbors)\n",
        "\n",
        "    # Convert hexadecimal color to BGR\n",
        "    bgr_color = tuple(int(rectangle_color.lstrip('#')[i:i+2], 16) for i in (0, 2, 4))\n",
        "\n",
        "    # Draw rectangles around the detected faces with the chosen color\n",
        "    for (x, y, w, h) in faces:\n",
        "        cv2.rectangle(image, (x, y), (x + w, y + h), bgr_color, 2)\n",
        "\n",
        "    # Display the image with detected faces\n",
        "    st.image(image, channels=\"BGR\", use_column_width=True)\n",
        "\n",
        "    # Save the result image to a file\n",
        "    result_file_path = \"C:\\\\Users\\\\ski\\\\Desktop\\\\FaceDetectorUpload\\\\result_image.jpg\"\n",
        "    cv2.imwrite(result_file_path, image)\n",
        "    st.write(\"Result image saved as:\", result_file_path)\n",
        "\n",
        "# Define the Streamlit app\n",
        "def app():\n",
        "    st.title(\"Face Detection using Viola-Jones Algorithm\")\n",
        "\n",
        "    # Instructions\n",
        "    st.write(\"Upload an image and press the button below to detect faces in the image.\")\n",
        "    st.write(\"Adjust the parameters to customize the face detection:\")\n",
        "\n",
        "    uploaded_image = st.file_uploader(\"Upload Image\", type=[\"jpg\", \"png\", \"jpeg\"])\n",
        "\n",
        "    min_neighbors = st.slider(\"minNeighbors:\", 1, 10, 5)\n",
        "    scale_factor = st.slider(\"scaleFactor:\", 1.01, 1.5, 1.3)\n",
        "    rectangle_color = st.color_picker(\"Rectangle Color\", \"#00FF00\")\n",
        "\n",
        "    # Add a button to start detecting faces\n",
        "    if st.button(\"Detect Faces\"):\n",
        "        if uploaded_image is not None:\n",
        "            # Call the detect_faces_in_image function with the chosen parameters\n",
        "            detect_faces_in_image(uploaded_image.read(), min_neighbors, scale_factor, rectangle_color)\n",
        "\n",
        "if __name__ == \"__main__\":\n",
        "    app()\n"
      ]
    },
    {
      "cell_type": "code",
      "execution_count": null,
      "id": "b1e5ecf4",
      "metadata": {
        "id": "b1e5ecf4"
      },
      "outputs": [],
      "source": []
    }
  ],
  "metadata": {
    "kernelspec": {
      "display_name": "Python 3 (ipykernel)",
      "language": "python",
      "name": "python3"
    },
    "language_info": {
      "codemirror_mode": {
        "name": "ipython",
        "version": 3
      },
      "file_extension": ".py",
      "mimetype": "text/x-python",
      "name": "python",
      "nbconvert_exporter": "python",
      "pygments_lexer": "ipython3",
      "version": "3.11.4"
    },
    "colab": {
      "provenance": []
    }
  },
  "nbformat": 4,
  "nbformat_minor": 5
}